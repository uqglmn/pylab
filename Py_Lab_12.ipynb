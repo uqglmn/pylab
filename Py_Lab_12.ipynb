{
 "cells": [
  {
   "cell_type": "markdown",
   "id": "be06dcea-9d5e-491c-ac3c-ddacba2639d9",
   "metadata": {},
   "source": [
    "## Python Tutorial 12: Classes and objects"
   ]
  },
  {
   "cell_type": "markdown",
   "id": "602a0260-d3ae-4553-830b-87e79e4b544c",
   "metadata": {},
   "source": [
    "In this tutorial you will learn to:\n",
    "- desing your own classes\n",
    "- create new objects of your new class type"
   ]
  },
  {
   "cell_type": "markdown",
   "id": "fb154617-b750-4038-8bc3-48611f8bc4d7",
   "metadata": {},
   "source": [
    "### Designing your own class"
   ]
  },
  {
   "cell_type": "markdown",
   "id": "5a400ace-9018-4079-ab40-64592a426308",
   "metadata": {},
   "source": [
    "Classes are created using keyword ``class`` followed by the class name and the parent class, which is a python object.<br>\n",
    "Then follows a special function (method) for the new object initialisation named ``__init__`` which sets the initial data attributes for the new object."
   ]
  },
  {
   "cell_type": "code",
   "execution_count": null,
   "id": "4bc8d4e0-97bb-4dd7-9e8d-300738caa489",
   "metadata": {},
   "outputs": [],
   "source": [
    "# define a new class \"fraction\"\n",
    "class fraction(object):\n",
    "    def __init__(self, numerator, denominator):\n",
    "        self.num = numerator\n",
    "        self.denom = denominator"
   ]
  },
  {
   "cell_type": "markdown",
   "id": "12065a44-c26e-4331-839e-446b82c6af91",
   "metadata": {},
   "source": [
    "The code above defines a new class named ``fraction`` than can be used to create new objects:"
   ]
  },
  {
   "cell_type": "code",
   "execution_count": null,
   "id": "f5dc8800-8061-4765-adf5-86788b3aa173",
   "metadata": {},
   "outputs": [],
   "source": [
    "# create new objects of \"fraction\" type\n",
    "my_fraction = fraction(1, 2)\n",
    "my_other_fraction = fraction(5, 7)"
   ]
  },
  {
   "cell_type": "markdown",
   "id": "1d266c0a-067b-4ec6-9a22-bf9a5908905f",
   "metadata": {},
   "source": [
    "However, Python does not know what can be done with these objects. If you print then, you get the type of the object ands its memory address: "
   ]
  },
  {
   "cell_type": "code",
   "execution_count": null,
   "id": "8ca28fe0-fad0-4aa9-9ada-767a1feeaf55",
   "metadata": {},
   "outputs": [],
   "source": [
    "print(my_fraction)"
   ]
  },
  {
   "cell_type": "markdown",
   "id": "349dc3ba-b238-4d5b-af9a-b5e7562656bb",
   "metadata": {},
   "source": [
    "We need to specify methods that can be used with our new objects. In case of fractions, we may interested in their addition. We add fractions as follows:\n",
    "* we cross-multiply two fractions and-up the results to get the new numerator, and\n",
    "* we multiply the denominators to get the new denominator.\n",
    "\n",
    "We need to define a new method (a function inside the class) that adds two fractions. As arguments we pass the first fraction, the ``self``, and another fraction, which we name the ``other``:\n",
    "\n",
    "```python\n",
    "def add(self, other):\n",
    "```\n",
    "\n",
    "In the scope of this function we have assumed, that both ``self`` and ``other`` are of the type `fraction` we have created above. We access the numerator and the denominator of a fraction using the ``.`` (dot) operator ``my_fraction.numerator``.\n",
    "\n",
    "```python\n",
    "def add (self, other):\n",
    "    new_numerator = self.num * other.denom + other.num * self.denom\n",
    "    new_denominator = self.denom * other.denom\n",
    "    return fraction(new_numerator, new_denominator)\n",
    "```\n",
    "\n",
    "This function returns a new object of the ``fraction`` type.\n",
    "\n",
    "We can now update our class ``fraction`` with this function:"
   ]
  },
  {
   "cell_type": "code",
   "execution_count": null,
   "id": "a7f32031-2b6c-4481-957b-9eb2d5b9fce1",
   "metadata": {},
   "outputs": [],
   "source": [
    "# an updated class \"fraction\"\n",
    "class fraction(object):\n",
    "    def __init__(self, numerator, denominator):\n",
    "        self.num = numerator\n",
    "        self.denom = denominator\n",
    "    def add (self, other):\n",
    "        new_numerator = self.num * other.denom + other.num * self.denom\n",
    "        new_denominator = self.denom * other.denom\n",
    "        return fraction(new_numerator, new_denominator)"
   ]
  },
  {
   "cell_type": "markdown",
   "id": "df899545-f011-446d-a47f-dbc391c8c2d2",
   "metadata": {},
   "source": [
    "Same as data, methods (or functions specific to some class or object) can be reached with a ``.`` dot operator ``object.method(parameters)``.\n",
    "\n",
    "In our case, our object is the first fraction ``my_fraction``, and we call a method that is written for an object of this class named ``add``.\n",
    "\n",
    "We need to pass as a parameter another fraction, as ``self`` is always passed as the object we are calling a method on, in this case - ``my_fraction``.\n",
    "\n",
    "We can now create two fractions, add them up, and print the result:"
   ]
  },
  {
   "cell_type": "code",
   "execution_count": null,
   "id": "de366c18-36cc-469e-a8b2-28e317004617",
   "metadata": {},
   "outputs": [],
   "source": [
    "# create two fractions\n",
    "my_fraction = fraction(1, 2)\n",
    "another_fraction = fraction(5, 7)\n",
    "\n",
    "# add-up the two fractions\n",
    "the_sum = my_fraction.add(another_fraction)\n",
    "\n",
    "# print the result\n",
    "print(f\"{my_fraction.num}/{my_fraction.denom} + {another_fraction.num}/{another_fraction.denom} = {the_sum.num}/{the_sum.denom}\")"
   ]
  },
  {
   "cell_type": "markdown",
   "id": "558fda2e-f549-40f5-b767-f9a03f682a62",
   "metadata": {},
   "source": [
    "Printing the object (``print(my_fraction)``) still prints the object type. Our class has inherited the method `__str__` from the parent object. It is the method that tells the print function what should be passed to the screen when printing the object:\n",
    "\n",
    "```python\n",
    "def __str__(self):\n",
    "    return f\"{self.num}/{self.denom}\"\n",
    "```\n",
    "\n",
    "Let's add this method to our class:"
   ]
  },
  {
   "cell_type": "code",
   "execution_count": null,
   "id": "cd26c8e2-288a-4ccd-8b9c-894256433866",
   "metadata": {},
   "outputs": [],
   "source": [
    "# an updated class \"fraction\"\n",
    "class fraction(object):\n",
    "    def __init__(self, numerator, denominator):\n",
    "        self.num = numerator\n",
    "        self.denom = denominator\n",
    "    def __str__(self):\n",
    "        return f\"{self.num}/{self.denom}\"\n",
    "    def add (self, other):\n",
    "        new_numerator = self.num * other.denom + other.num * self.denom\n",
    "        new_denominator = self.denom * other.denom\n",
    "        return fraction(new_numerator, new_denominator)"
   ]
  },
  {
   "cell_type": "markdown",
   "id": "e993da03-e476-4ecc-a038-adf428f2ab3d",
   "metadata": {},
   "source": [
    "We can now print the fractions in an elegant way:"
   ]
  },
  {
   "cell_type": "code",
   "execution_count": null,
   "id": "c28778c6-c176-4990-8b29-6eb1f307afe8",
   "metadata": {},
   "outputs": [],
   "source": [
    "# create two fractions\n",
    "my_fraction = fraction(1, 2)\n",
    "another_fraction = fraction(5, 7)\n",
    "\n",
    "# add-up the two fractions\n",
    "the_sum = my_fraction.add(another_fraction)\n",
    "\n",
    "# print the result\n",
    "print(f\"{my_fraction} + {another_fraction} = {the_sum}\")"
   ]
  },
  {
   "cell_type": "markdown",
   "id": "721ed78a-2c8c-40bd-bd0c-ddaa0c9d5f0b",
   "metadata": {},
   "source": [
    "In a similar way you can add more methods to your class"
   ]
  },
  {
   "cell_type": "markdown",
   "id": "444c2ba8-69a2-455a-9dd1-97d8b95393ce",
   "metadata": {},
   "source": [
    "**Exercise 12.1**\n",
    "\n",
    "Update the ``fraction`` class with a method that simplifies the fraction:\n",
    "* find the gcd (greatest common divisor) of the numerator and the denominator\n",
    "* divide the numerator and the denominator by the gcd\n",
    "* return a new fraction with the new numerator and the new denominator\n",
    "\n",
    "In this scenario you will be calling a method on a specific object. Thus you do not need to provide a new argument, ``self`` is enough.\n",
    "\n",
    "Your task is to complete the code below:"
   ]
  },
  {
   "cell_type": "code",
   "execution_count": null,
   "id": "d88b8a17-407a-414d-b453-6fc8aacdb6c2",
   "metadata": {},
   "outputs": [],
   "source": [
    "class fraction(object):\n",
    "    def __init__(self, numerator, denominator):\n",
    "        self.num = numerator\n",
    "        self.denom = denominator\n",
    "    def __str__(self):\n",
    "        return f\"{self.num}/{self.denom}\"\n",
    "        \n",
    "    def add(self, other):\n",
    "        new_numerator = self.num * other.denom + other.num * self.denom\n",
    "        new_denominator = self.denom * other.denom\n",
    "        return fraction(new_numerator, new_denominator)\n",
    "        \n",
    "    def simplify(self):\n",
    "        # write your code here\n",
    "        return # "
   ]
  },
  {
   "cell_type": "markdown",
   "id": "b6162475-2ebf-49a8-b531-3f6c63d043b3",
   "metadata": {},
   "source": [
    "Now test your new method:"
   ]
  },
  {
   "cell_type": "code",
   "execution_count": null,
   "id": "d6ceafcb-8d11-4b83-af6f-36c77bf561db",
   "metadata": {},
   "outputs": [],
   "source": [
    "# test your new method\n",
    "print(fraction(10, 20).simplify())"
   ]
  },
  {
   "cell_type": "markdown",
   "id": "2dc7e632-72f8-437d-810a-b0c0823b3566",
   "metadata": {},
   "source": [
    "You should get 1/2."
   ]
  },
  {
   "cell_type": "markdown",
   "id": "30b812b1-0ac7-42be-95ef-cd818bff9496",
   "metadata": {},
   "source": [
    "### Sierpiński triangle "
   ]
  },
  {
   "cell_type": "markdown",
   "id": "432566e5-13fd-4694-b8b5-baee481a4291",
   "metadata": {},
   "source": [
    "[Sierpiński triangle](https://en.wikipedia.org/wiki/Sierpi\\%C5\\%84ski\\_triangle) is a fractal set in the shape of an equilateral triangle recursively divided into smaller equilateral triangles. The set is named after the Polish mathematician [Wacław Sierpiński](https://en.wikipedia.org/wiki/Wac%C5%82aw_Sierpi%C5%84ski), but as a decorative pattern it has been known for many centuries.\n",
    "\n",
    "<img src=\"https://raw.githubusercontent.com/uqglmn/pylab/main/figures/sierpinski.png\" width=350 />"
   ]
  },
  {
   "cell_type": "markdown",
   "id": "13db18f4-71cb-4ca2-b053-35b6454ffeaa",
   "metadata": {},
   "source": [
    "Sierpiński set can be approximated by the following algorithmn:\n",
    "\n",
    "1. Choose three points in a 2D plane: $p_1$, $p_2$ ir $p_3$. These points will be the corners of your triangle.\n",
    " \n",
    "2. Choose a random point on one of the triangle walls. For instance, choose the middle point $v_1$ between any two corners. Name this point the \"start\".\n",
    "\n",
    "3. Randomly choose any of the three corners, $p_{r_1}$, where $r_1\\in \\{1, 2, 3\\}$, and name it the \"end\".\n",
    "\n",
    "4. Find the middle point $v_2$ between the \"start\" and the \"end\": $v_2 = \\frac12(v_1 + p_{r_1})$.\n",
    "\n",
    "5. Repeat steps 3 and 4.\n",
    "    \n",
    "This way you will get the sequence:\n",
    "$$\n",
    "v_1,\\; v_2 = \\frac12(v_1 + p_{r_1}),\\;\\; v_3 =  \\tfrac12(v_2 + p_{r_2}) , \\;\\; \\ldots, \\;\\; v_{\\infty},\n",
    "$$\n",
    "\n",
    "where $r_1, r_2, \\ldots \\in \\{ 1, 2, 3\\}$ are randomly chosen. Points $v_1, v_2, \\ldots, v_{\\infty}$ densively fill the Sierpiński set."
   ]
  },
  {
   "cell_type": "markdown",
   "id": "8120353d-5d0d-4c3d-b238-ede0848b2d13",
   "metadata": {},
   "source": [
    "**1.1.** Create a new class named `point`, that will store coordinates $x$ and $y$ of a point in 2D place.\n"
   ]
  },
  {
   "cell_type": "code",
   "execution_count": null,
   "id": "1b1a30bd-1b44-4f80-bc6d-4e4870c28a3e",
   "metadata": {},
   "outputs": [],
   "source": [
    "# write your solution here\n",
    "\n"
   ]
  },
  {
   "cell_type": "markdown",
   "id": "1cb747ba-59d7-41de-b1e8-fcdeb3d1bca2",
   "metadata": {},
   "source": [
    "**1.2.** Add a method ``__str__()`` to print the coordinates in a human readable way:"
   ]
  },
  {
   "cell_type": "code",
   "execution_count": null,
   "id": "6552c1a8-9f75-44cb-b6c3-83b31725f3e8",
   "metadata": {},
   "outputs": [],
   "source": [
    "# write your solution here\n",
    "\n"
   ]
  },
  {
   "cell_type": "markdown",
   "id": "423c5500-cfe5-45b4-9bba-42780ea8bb6a",
   "metadata": {},
   "source": [
    "**1.3.** Add a method ``middle()`` that finds the middle point between two points."
   ]
  },
  {
   "cell_type": "code",
   "execution_count": null,
   "id": "0ca2a2e0-0e45-47c9-a4a1-92a500af4b34",
   "metadata": {},
   "outputs": [],
   "source": [
    "# write your solution here\n",
    "\n"
   ]
  },
  {
   "cell_type": "markdown",
   "id": "0712ad52-8ae2-408f-afa6-810a153b2fbb",
   "metadata": {},
   "source": [
    "Test your class with the following code:"
   ]
  },
  {
   "cell_type": "code",
   "execution_count": null,
   "id": "1644b20e-573e-4486-82a1-837e7562d05a",
   "metadata": {},
   "outputs": [],
   "source": [
    "A = point(0,0)   # A.x = 0, A.y = 0\n",
    "B = point(3,6)   # B.x = 3, B.y = 6\n",
    "C = A.middle(B)  # C.x = 1.5, C.y = 3\n",
    "print(C)         # should print (1.5, 3.0)"
   ]
  },
  {
   "cell_type": "markdown",
   "id": "788bd05a-6c07-4a66-bd9d-c0866a26623c",
   "metadata": {},
   "source": [
    "**1.4.** Create three point objects representing the three corners of your triangle."
   ]
  },
  {
   "cell_type": "code",
   "execution_count": null,
   "id": "f803fa08-299a-4256-9047-7b02b74e1a12",
   "metadata": {},
   "outputs": [],
   "source": [
    "# write your solution here\n",
    "\n"
   ]
  },
  {
   "cell_type": "markdown",
   "id": "b53dfe94-285b-4e06-86c0-39ac09589cfa",
   "metadata": {},
   "source": [
    "**1.5.** Plot all three coordinates. Use ``fig, ax = plt.subplots()``.\n"
   ]
  },
  {
   "cell_type": "code",
   "execution_count": null,
   "id": "503f292e-6c32-4b34-adb6-7940ff746463",
   "metadata": {},
   "outputs": [],
   "source": [
    "# write your solution here\n",
    "\n"
   ]
  },
  {
   "cell_type": "markdown",
   "id": "59690faf-9348-4964-9a18-7fadaa2a0ea0",
   "metadata": {},
   "source": [
    "**1.5.** Randomly choose two corners (out of ``p1``, ``p2``, and ``p3``). Use [``random.sample()``](https://www.geeksforgeeks.org/python-random-sample-function/) to do the random selection."
   ]
  },
  {
   "cell_type": "code",
   "execution_count": null,
   "id": "d23ec107-e5db-4f74-a3ff-5cac37617460",
   "metadata": {},
   "outputs": [],
   "source": [
    "# write your solution here\n",
    "\n"
   ]
  },
  {
   "cell_type": "markdown",
   "id": "3c22ee78-a7da-4d42-bb95-0bf3df2219a5",
   "metadata": {},
   "source": [
    "**1.6.** Use the ``.middle()`` method to find the middle point between the randomly selected corners.<br>\n",
    "In this workbook you can add the extra point to your plot using ``ax.scatter()`` and showing the updated figure with ``fig``."
   ]
  },
  {
   "cell_type": "code",
   "execution_count": null,
   "id": "a3a31878-afca-40f0-92af-a5d8fd2c8676",
   "metadata": {},
   "outputs": [],
   "source": [
    "# write your solution here\n",
    "\n"
   ]
  },
  {
   "cell_type": "markdown",
   "id": "13f6bdfc-d494-4d04-aa6d-f4ce0c723895",
   "metadata": {},
   "source": [
    "**1.7.** The previously determined middle point is your new \"start\" point. You need to randomly select the \"end\" point from the set of corners: ``p1``, ``p2``, and ``p3``. Use ``random.sample()`` once again. Then find the new middle point between the new start point and the new end point. Finally, update your plot with this new point."
   ]
  },
  {
   "cell_type": "code",
   "execution_count": null,
   "id": "53cfdd24-9460-4eed-a9ba-143fbc7c3175",
   "metadata": {},
   "outputs": [],
   "source": [
    "# write your solution here\n",
    "\n"
   ]
  },
  {
   "cell_type": "markdown",
   "id": "800506cf-5dc7-4d31-9f4f-b096071ab2d5",
   "metadata": {},
   "source": [
    "**1.8.** Repeat steps 1.6 and 1.7 for 1000 times. Add all the middle points to a list."
   ]
  },
  {
   "cell_type": "code",
   "execution_count": null,
   "id": "519c50fb-b522-420e-8caa-86426b219eba",
   "metadata": {},
   "outputs": [],
   "source": [
    "# write your solution here\n",
    "\n"
   ]
  },
  {
   "cell_type": "markdown",
   "id": "9235bc74-f13e-40a5-90ef-71bc651f96a4",
   "metadata": {},
   "source": [
    "**1.9.** Plot the points in your list."
   ]
  },
  {
   "cell_type": "code",
   "execution_count": null,
   "id": "878fb03e-3c0b-4152-bae7-e4166348cdd3",
   "metadata": {},
   "outputs": [],
   "source": [
    "# write your solution here\n",
    "\n"
   ]
  },
  {
   "cell_type": "markdown",
   "id": "85519a78-1469-4a40-99a5-7f047688d1ff",
   "metadata": {},
   "source": [
    "**1.10.** Export your complete code to Python and run it for 10000 points.  "
   ]
  },
  {
   "cell_type": "markdown",
   "id": "f8ab7267-50bf-4a34-ad95-c0aac7e03ee5",
   "metadata": {},
   "source": [
    "---"
   ]
  }
 ],
 "metadata": {
  "kernelspec": {
   "display_name": "Python 3 (ipykernel)",
   "language": "python",
   "name": "python3"
  },
  "language_info": {
   "codemirror_mode": {
    "name": "ipython",
    "version": 3
   },
   "file_extension": ".py",
   "mimetype": "text/x-python",
   "name": "python",
   "nbconvert_exporter": "python",
   "pygments_lexer": "ipython3",
   "version": "3.11.7"
  }
 },
 "nbformat": 4,
 "nbformat_minor": 5
}
