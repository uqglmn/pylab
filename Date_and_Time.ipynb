{
 "cells": [
  {
   "cell_type": "markdown",
   "id": "be06dcea-9d5e-491c-ac3c-ddacba2639d9",
   "metadata": {},
   "source": [
    "## Date and Time in Python"
   ]
  },
  {
   "cell_type": "markdown",
   "id": "602a0260-d3ae-4553-830b-87e79e4b544c",
   "metadata": {},
   "source": [
    "These exercises will drill your date and time manipulation skills. \n",
    "\n",
    "To deal with date and time we need to import the following two packages:"
   ]
  },
  {
   "cell_type": "code",
   "execution_count": 1,
   "id": "b26e354b-de1d-469f-b09d-0401e4bfe25a",
   "metadata": {},
   "outputs": [],
   "source": [
    "import time as t\n",
    "import datetime as dt"
   ]
  },
  {
   "cell_type": "markdown",
   "id": "30b812b1-0ac7-42be-95ef-cd818bff9496",
   "metadata": {},
   "source": [
    "## 1. Current time"
   ]
  },
  {
   "cell_type": "markdown",
   "id": "876750c2-e98b-4350-b384-182251aca50c",
   "metadata": {},
   "source": [
    "Use the ``time`` library to complete exercises given below."
   ]
  },
  {
   "cell_type": "markdown",
   "id": "8120353d-5d0d-4c3d-b238-ede0848b2d13",
   "metadata": {},
   "source": [
    "**Exercise 1.1.** Print the current:\n",
    "* timestamp (Unix time)\n",
    "* localtime \n"
   ]
  },
  {
   "cell_type": "code",
   "execution_count": null,
   "id": "ea45b225-42e6-4c9e-8796-bb623419c2ff",
   "metadata": {},
   "outputs": [],
   "source": [
    "# write your solution here\n",
    "\n"
   ]
  },
  {
   "cell_type": "markdown",
   "id": "1cb747ba-59d7-41de-b1e8-fcdeb3d1bca2",
   "metadata": {},
   "source": [
    "**Exercise 1.2.** Print the current time in the format ``2024-Dec-07 11:00:00``.\n",
    "\n",
    "Hint: Use [``.localtime()``](https://www.geeksforgeeks.org/python-time-localtime-method/) and [``.strftime()``](https://www.tutorialspoint.com/python/time_strftime.htm):"
   ]
  },
  {
   "cell_type": "code",
   "execution_count": null,
   "id": "e4a886ca-dc1f-4fc3-a520-a974428b7b9b",
   "metadata": {},
   "outputs": [],
   "source": [
    "# write your solution here\n",
    "\n"
   ]
  },
  {
   "cell_type": "markdown",
   "id": "7ac31191-0da9-48d4-ad5d-efbccfe98b85",
   "metadata": {},
   "source": [
    "**Exercise 1.3.** Write a program that asks the user to input a year and prints the number of days, hours, minutes and seconds that are left until Christmas of that year (assume that Christmas starts at 00:00 December 25th).\n",
    "\n",
    "Hints:\n",
    "\n",
    "* Use [``.strptime()``](https://www.geeksforgeeks.org/python-time-strptime-function/) to get the time object.\n",
    "* Use [``.mktime()``](https://www.geeksforgeeks.org/python-time-mktime-method/) to get the timestamp.\n",
    "* Subtract the current time from the time of Christmas.\n",
    "* Use [``.timedelta()``](https://www.geeksforgeeks.org/python-datetime-timedelta-function/) to get the wanted output."
   ]
  },
  {
   "cell_type": "code",
   "execution_count": null,
   "id": "2f326bfa-7e94-403f-b996-1d62e72da93c",
   "metadata": {},
   "outputs": [],
   "source": [
    "# write your solution here\n",
    "\n"
   ]
  },
  {
   "cell_type": "markdown",
   "id": "86949447-f5df-4282-ba8c-70fbb19f9dcd",
   "metadata": {},
   "source": [
    "## 2. Date and time"
   ]
  },
  {
   "cell_type": "markdown",
   "id": "d2d3275d-16ea-4e8c-a116-4b9a336828ed",
   "metadata": {},
   "source": [
    "Use the ``datetime`` library to complete exercises given below."
   ]
  },
  {
   "cell_type": "markdown",
   "id": "df698a1c-846b-4095-aa95-964b45c1c44a",
   "metadata": {},
   "source": [
    "**Exercise 2.1.** Print today's:\n",
    "* date\n",
    "* date and time\n",
    "* time\n",
    "* weekday\n",
    "\n",
    "Hints: \n",
    "\n",
    "* Get date and time using ``dt.datetime.now()``\n",
    "* Then use ``.strftime()`` to get different outputs as required above."
   ]
  },
  {
   "cell_type": "code",
   "execution_count": null,
   "id": "458482f7-e29f-4223-b782-e7e005407420",
   "metadata": {},
   "outputs": [],
   "source": [
    "# write your solution here\n",
    "\n"
   ]
  },
  {
   "cell_type": "markdown",
   "id": "8d09898f-a59f-482c-9827-0758e414372a",
   "metadata": {},
   "source": [
    "**Exercise 2.2.** Write a program that asks the user to input a date in the ``YYYY-MM-DD`` format and prints the number of that day in that year. For example, the date 2024-01-10 is the 10th day of year 2024. "
   ]
  },
  {
   "cell_type": "code",
   "execution_count": null,
   "id": "429d4869-29af-43ec-b895-3c9c265b5e0d",
   "metadata": {},
   "outputs": [],
   "source": [
    "# write your solution here\n",
    "\n"
   ]
  },
  {
   "cell_type": "markdown",
   "id": "b50f0cb1-abd5-4a72-bb8e-4b75e002be02",
   "metadata": {},
   "source": [
    "**Exercise 2.3.** Write a program that asks the user to input their date of birth in the YYYY-MM-DD format and prints the day the week the user was born."
   ]
  },
  {
   "cell_type": "code",
   "execution_count": null,
   "id": "599cb4cf-291e-48f7-bdfa-4845890c2d0d",
   "metadata": {},
   "outputs": [],
   "source": [
    "# write your solution here\n",
    "\n"
   ]
  },
  {
   "cell_type": "markdown",
   "id": "65795ce8-a726-4fc1-90e3-017b606f2555",
   "metadata": {},
   "source": [
    "## 3. Timer"
   ]
  },
  {
   "cell_type": "markdown",
   "id": "0fcc5ceb-afe6-4d39-8ff7-311a66bf3441",
   "metadata": {},
   "source": [
    "**Exercise 3.1.** Write program that prints a countdown clock. The program should:\n",
    "\n",
    "* Ask user to input countdown time in seconds.\n",
    "* Then ask the user to provide the decimal point precision of the countdown.\n",
    "* Finally, print the countdown in a single line (make values change in a single line). Use [``end='\\r'``](https://blog.finxter.com/how-to-overwrite-the-previous-print-to-stdout-in-python/) in the ``print()`` function.\n",
    "* The countdown part should be written as a Python function."
   ]
  },
  {
   "cell_type": "code",
   "execution_count": null,
   "id": "dc4b28b1-582c-4b54-a94c-21bb12e80d28",
   "metadata": {},
   "outputs": [],
   "source": [
    "# write your solution here\n",
    "\n"
   ]
  },
  {
   "cell_type": "markdown",
   "id": "214e2485-c1a0-4aee-878c-58776e686f96",
   "metadata": {},
   "source": [
    "---"
   ]
  }
 ],
 "metadata": {
  "kernelspec": {
   "display_name": "Python 3 (ipykernel)",
   "language": "python",
   "name": "python3"
  },
  "language_info": {
   "codemirror_mode": {
    "name": "ipython",
    "version": 3
   },
   "file_extension": ".py",
   "mimetype": "text/x-python",
   "name": "python",
   "nbconvert_exporter": "python",
   "pygments_lexer": "ipython3",
   "version": "3.11.7"
  }
 },
 "nbformat": 4,
 "nbformat_minor": 5
}
